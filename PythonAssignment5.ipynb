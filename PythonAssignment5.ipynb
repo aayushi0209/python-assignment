{
  "nbformat": 4,
  "nbformat_minor": 0,
  "metadata": {
    "colab": {
      "name": "PythonAssignment5.ipynb",
      "provenance": [],
      "collapsed_sections": [],
      "authorship_tag": "ABX9TyMQ3PY3V9d2tqPfQZs6EJkY"
    },
    "kernelspec": {
      "name": "python3",
      "display_name": "Python 3"
    }
  },
  "cells": [
    {
      "cell_type": "code",
      "metadata": {
        "id": "OOIbNmeWIhIY",
        "colab_type": "code",
        "colab": {
          "base_uri": "https://localhost:8080/",
          "height": 34
        },
        "outputId": "515e0dad-a4d0-467b-cf03-1a06d198e3b7"
      },
      "source": [
        "# [0,1,2,10,4,1,0,56,2,0,1,3,0,56,0,4]\n",
        "# Sort by increasing order but all zeros should be at the right hand side\n",
        "\n",
        "list1=[0,1,2,10,4,1,0,56,2,0,1,3,0,56,0,4]\n",
        "list1.sort()\n",
        "for i in list1:\n",
        "    if i==0:\n",
        "        list1.remove(i)\n",
        "        list1.append(0)\n",
        "print(list1)"
      ],
      "execution_count": 22,
      "outputs": [
        {
          "output_type": "stream",
          "text": [
            "[1, 1, 1, 2, 2, 3, 4, 4, 10, 56, 56, 0, 0, 0, 0, 0]\n"
          ],
          "name": "stdout"
        }
      ]
    },
    {
      "cell_type": "code",
      "metadata": {
        "id": "6d3MtatGIyyf",
        "colab_type": "code",
        "colab": {
          "base_uri": "https://localhost:8080/",
          "height": 34
        },
        "outputId": "753d69a6-18b4-4418-8ecc-1bb4e2d7ef40"
      },
      "source": [
        "# list1=[10,20,40,60,70,80] sorted list\n",
        "# list2=[5,15,25,35,45,60] sorted list\n",
        "# Merge these two sorted lists to produce one sorted list, but use only loop either while or for only one time\n",
        "\n",
        "list1=[10,20,40,60,70,80]\n",
        "list2=[5,15,25,35,45,60]\n",
        "final_list=[]\n",
        "\n",
        "final_list.extend(list1)\n",
        "final_list.extend(list2)\n",
        "final_list.sort()\n",
        "print(final_list)"
      ],
      "execution_count": 31,
      "outputs": [
        {
          "output_type": "stream",
          "text": [
            "[5, 10, 15, 20, 25, 35, 40, 45, 60, 60, 70, 80]\n"
          ],
          "name": "stdout"
        }
      ]
    },
    {
      "cell_type": "code",
      "metadata": {
        "id": "eAFpdwXkMTuo",
        "colab_type": "code",
        "colab": {}
      },
      "source": [
        ""
      ],
      "execution_count": null,
      "outputs": []
    }
  ]
}