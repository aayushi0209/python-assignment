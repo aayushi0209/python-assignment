{
  "nbformat": 4,
  "nbformat_minor": 0,
  "metadata": {
    "colab": {
      "name": "PythonAssignment6.ipynb",
      "provenance": [],
      "collapsed_sections": [],
      "authorship_tag": "ABX9TyOJK+nPjNPXjtPyJO2vM1ul"
    },
    "kernelspec": {
      "name": "python3",
      "display_name": "Python 3"
    }
  },
  "cells": [
    {
      "cell_type": "code",
      "metadata": {
        "id": "dg-s1loAAOg9",
        "colab_type": "code",
        "colab": {
          "base_uri": "https://localhost:8080/",
          "height": 34
        },
        "outputId": "a1bc38da-e793-4035-8d8a-b0537c13e6f1"
      },
      "source": [
        "# List1 = [1,2,3,4,5,7,8]\n",
        "# List2 = [“a”, “b”, “c”, “d”, “e”]\n",
        "# Convert to a dictionary in one line code using list comprehension (without using zip method)\n",
        "List1 = [1,2,3,4,5,7,8]\n",
        "List2 = ['a', 'b', 'c', 'd', 'e']\n",
        "\n",
        "dict = {List1[i]: List2[i] for i in range(len(List2))}\n",
        "print(dict)"
      ],
      "execution_count": 7,
      "outputs": [
        {
          "output_type": "stream",
          "text": [
            "{1: 'a', 2: 'b', 3: 'c', 4: 'd', 5: 'e'}\n"
          ],
          "name": "stdout"
        }
      ]
    },
    {
      "cell_type": "code",
      "metadata": {
        "id": "AUGN-ehwAxqP",
        "colab_type": "code",
        "colab": {}
      },
      "source": [
        ""
      ],
      "execution_count": null,
      "outputs": []
    }
  ]
}