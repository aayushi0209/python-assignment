{
  "nbformat": 4,
  "nbformat_minor": 0,
  "metadata": {
    "colab": {
      "name": "PythonAssignment1",
      "provenance": [],
      "collapsed_sections": [],
      "authorship_tag": "ABX9TyNURdS43Y3MjavNtFaQPrDA",
      "include_colab_link": true
    },
    "kernelspec": {
      "name": "python3",
      "display_name": "Python 3"
    }
  },
  "cells": [
    {
      "cell_type": "markdown",
      "metadata": {
        "id": "view-in-github",
        "colab_type": "text"
      },
      "source": [
        "<a href=\"https://colab.research.google.com/github/aayushi0209/python-assignment/blob/master/PythonAssignment1.ipynb\" target=\"_parent\"><img src=\"https://colab.research.google.com/assets/colab-badge.svg\" alt=\"Open In Colab\"/></a>"
      ]
    },
    {
      "cell_type": "code",
      "metadata": {
        "id": "HeSTnvmxbhyS",
        "colab_type": "code",
        "colab": {
          "base_uri": "https://localhost:8080/",
          "height": 34
        },
        "outputId": "ba96d1c8-fde8-4d55-ae84-a1022fc91503"
      },
      "source": [
        "print(\"Hello\")"
      ],
      "execution_count": 1,
      "outputs": [
        {
          "output_type": "stream",
          "text": [
            "Hello\n"
          ],
          "name": "stdout"
        }
      ]
    },
    {
      "cell_type": "code",
      "metadata": {
        "id": "_S_AX59-bke4",
        "colab_type": "code",
        "colab": {
          "base_uri": "https://localhost:8080/",
          "height": 34
        },
        "outputId": "c70a1505-2096-4c9f-b5b9-a4d9b17d4184"
      },
      "source": [
        "print(\"Hello \\\n",
        "Python\")"
      ],
      "execution_count": 2,
      "outputs": [
        {
          "output_type": "stream",
          "text": [
            "Hello Python\n"
          ],
          "name": "stdout"
        }
      ]
    },
    {
      "cell_type": "code",
      "metadata": {
        "id": "yYdOqjZ5bo19",
        "colab_type": "code",
        "colab": {
          "base_uri": "https://localhost:8080/",
          "height": 34
        },
        "outputId": "f8807a6c-9359-46aa-d542-03bc170b97c6"
      },
      "source": [
        "print(\"Python's World \")"
      ],
      "execution_count": 3,
      "outputs": [
        {
          "output_type": "stream",
          "text": [
            "Python's World \n"
          ],
          "name": "stdout"
        }
      ]
    },
    {
      "cell_type": "code",
      "metadata": {
        "id": "OcM2aTELb7h-",
        "colab_type": "code",
        "colab": {
          "base_uri": "https://localhost:8080/",
          "height": 34
        },
        "outputId": "30817bab-5dfa-4be6-c345-502463017333"
      },
      "source": [
        "print('Python\\'s World ')\n"
      ],
      "execution_count": 7,
      "outputs": [
        {
          "output_type": "stream",
          "text": [
            "Python's World \n"
          ],
          "name": "stdout"
        }
      ]
    },
    {
      "cell_type": "code",
      "metadata": {
        "id": "Xeo15oyycA91",
        "colab_type": "code",
        "colab": {
          "base_uri": "https://localhost:8080/",
          "height": 34
        },
        "outputId": "e741c72b-3518-4afb-cb06-851a9dfd9952"
      },
      "source": [
        "print('Python\\t World ')\n"
      ],
      "execution_count": 8,
      "outputs": [
        {
          "output_type": "stream",
          "text": [
            "Python\t World \n"
          ],
          "name": "stdout"
        }
      ]
    },
    {
      "cell_type": "code",
      "metadata": {
        "id": "LTo1rMdncXfC",
        "colab_type": "code",
        "colab": {
          "base_uri": "https://localhost:8080/",
          "height": 52
        },
        "outputId": "512bc519-dd18-4c16-f023-c1a557f35e45"
      },
      "source": [
        "print('Python\\n World ')\n"
      ],
      "execution_count": 9,
      "outputs": [
        {
          "output_type": "stream",
          "text": [
            "Python\n",
            " World \n"
          ],
          "name": "stdout"
        }
      ]
    },
    {
      "cell_type": "code",
      "metadata": {
        "id": "dL-hT7tJcoez",
        "colab_type": "code",
        "colab": {
          "base_uri": "https://localhost:8080/",
          "height": 34
        },
        "outputId": "b17259c3-dd76-44a0-a9e8-45c24d79bf1e"
      },
      "source": [
        "name=\"aayushi\"\n",
        "age=20\n",
        "print(\"My name is \",name ,\" and age is\",age)"
      ],
      "execution_count": 11,
      "outputs": [
        {
          "output_type": "stream",
          "text": [
            "My name is  aayushi  and age is 20\n"
          ],
          "name": "stdout"
        }
      ]
    },
    {
      "cell_type": "code",
      "metadata": {
        "id": "TZqFdq8AdDrp",
        "colab_type": "code",
        "colab": {
          "base_uri": "https://localhost:8080/",
          "height": 34
        },
        "outputId": "c51eb14f-9ce9-4bf5-d27f-b9ac9e86c284"
      },
      "source": [
        "print(\"My name is %s and age is %d\"%(name,age))"
      ],
      "execution_count": 13,
      "outputs": [
        {
          "output_type": "stream",
          "text": [
            "My name is aayushi and age is 20\n"
          ],
          "name": "stdout"
        }
      ]
    },
    {
      "cell_type": "code",
      "metadata": {
        "id": "GM1r84UhdzzB",
        "colab_type": "code",
        "colab": {
          "base_uri": "https://localhost:8080/",
          "height": 34
        },
        "outputId": "a76148bb-197b-4d58-bde1-5837dd3e8f15"
      },
      "source": [
        "print(f\"My name is {name} and age is {age}\")"
      ],
      "execution_count": 15,
      "outputs": [
        {
          "output_type": "stream",
          "text": [
            "My name is aayushi and age is 20\n"
          ],
          "name": "stdout"
        }
      ]
    },
    {
      "cell_type": "code",
      "metadata": {
        "id": "l_jDHtqzeEqa",
        "colab_type": "code",
        "colab": {
          "base_uri": "https://localhost:8080/",
          "height": 141
        },
        "outputId": "07edbbf9-7d88-4fd6-8cb5-bf61a0bfbc67"
      },
      "source": [
        "# Arithmetic Operations\n",
        "\n",
        "# Power\n",
        "print(7**4)\n",
        "\n",
        "# Multiplication\n",
        "print(345*35.355)\n",
        "\n",
        "# addition\n",
        "print(2525+6894.452)\n",
        "\n",
        "# Substraction\n",
        "print(235525-67594.452)\n",
        "\n",
        "# Division\n",
        "print(235/25)\n",
        "\n",
        "# Modulus\n",
        "print(235%25)\n",
        "\n",
        "# Floor \n",
        "print(235//25)\n"
      ],
      "execution_count": 22,
      "outputs": [
        {
          "output_type": "stream",
          "text": [
            "2401\n",
            "12197.474999999999\n",
            "9419.452000000001\n",
            "167930.548\n",
            "9.4\n",
            "10\n",
            "9\n"
          ],
          "name": "stdout"
        }
      ]
    },
    {
      "cell_type": "code",
      "metadata": {
        "id": "XOBKwSuZfRnY",
        "colab_type": "code",
        "colab": {
          "base_uri": "https://localhost:8080/",
          "height": 123
        },
        "outputId": "18d30c16-4bc0-461f-83e4-d53d2aaa90be"
      },
      "source": [
        "# Comparison Operators\n",
        "a=100\n",
        "b=43\n",
        "# ==\n",
        "\n",
        "print(a==b)\n",
        "# <\n",
        "print(a<b)\n",
        "\n",
        "# >\n",
        "print(a>b)\n",
        "\n",
        "# >=\n",
        "print(a>=b)\n",
        "\n",
        "# <=\n",
        "print(a<=b)\n",
        "\n",
        "# !=\n",
        "print(a!=b)\n"
      ],
      "execution_count": 26,
      "outputs": [
        {
          "output_type": "stream",
          "text": [
            "False\n",
            "False\n",
            "True\n",
            "True\n",
            "False\n",
            "True\n"
          ],
          "name": "stdout"
        }
      ]
    },
    {
      "cell_type": "code",
      "metadata": {
        "id": "NDN88qaQiLzS",
        "colab_type": "code",
        "colab": {
          "base_uri": "https://localhost:8080/",
          "height": 105
        },
        "outputId": "f5a1d756-3424-4130-c5fa-cf0a194ea946"
      },
      "source": [
        "# Assignment Opeartors\n",
        "a=100\n",
        "print(a)\n",
        "a+=100\n",
        "print(a)\n",
        "a-=23\n",
        "print(a)\n",
        "a*=21\n",
        "print(a)\n",
        "a/=20\n",
        "print(a)  \n"
      ],
      "execution_count": 27,
      "outputs": [
        {
          "output_type": "stream",
          "text": [
            "100\n",
            "200\n",
            "177\n",
            "3717\n",
            "185.85\n"
          ],
          "name": "stdout"
        }
      ]
    },
    {
      "cell_type": "code",
      "metadata": {
        "id": "U2T2jNX_mnA3",
        "colab_type": "code",
        "colab": {
          "base_uri": "https://localhost:8080/",
          "height": 87
        },
        "outputId": "ef5f52a5-cbbb-48b6-9f2d-0a60ef9b315e"
      },
      "source": [
        "# Bitwise Operators\n",
        "\n",
        "# &\n",
        "print(7&3)\n",
        "\n",
        "# ^\n",
        "print(7^3)\n",
        "\n",
        "# <<\n",
        "print(7<<3)\n",
        "\n",
        "# >>\n",
        "print(7>>3)"
      ],
      "execution_count": 36,
      "outputs": [
        {
          "output_type": "stream",
          "text": [
            "3\n",
            "4\n",
            "56\n",
            "0\n"
          ],
          "name": "stdout"
        }
      ]
    },
    {
      "cell_type": "code",
      "metadata": {
        "id": "74f79uqE5IiQ",
        "colab_type": "code",
        "colab": {
          "base_uri": "https://localhost:8080/",
          "height": 70
        },
        "outputId": "ae0ca4d3-6388-43c3-d9a5-02729942e48b"
      },
      "source": [
        "# Logical Operations\n",
        "a=10\n",
        "b=12\n",
        "# and\n",
        "print(a and b)\n",
        "# or\n",
        "print(a or b)\n",
        "\n",
        "# not\n",
        "print(not b)\n"
      ],
      "execution_count": 37,
      "outputs": [
        {
          "output_type": "stream",
          "text": [
            "12\n",
            "10\n",
            "False\n"
          ],
          "name": "stdout"
        }
      ]
    },
    {
      "cell_type": "code",
      "metadata": {
        "id": "AeXBEmPc61_g",
        "colab_type": "code",
        "colab": {
          "base_uri": "https://localhost:8080/",
          "height": 52
        },
        "outputId": "e1f3454c-5d95-47b3-ecbc-385f2368f6dd"
      },
      "source": [
        "# Membership Operators\n",
        "a=[1,2,3,4,5]\n",
        "print(2 in a)\n",
        "print(100 not in a)\n"
      ],
      "execution_count": 39,
      "outputs": [
        {
          "output_type": "stream",
          "text": [
            "True\n",
            "True\n"
          ],
          "name": "stdout"
        }
      ]
    },
    {
      "cell_type": "code",
      "metadata": {
        "id": "0XF3Bzln7zzl",
        "colab_type": "code",
        "colab": {}
      },
      "source": [
        ""
      ],
      "execution_count": null,
      "outputs": []
    }
  ]
}