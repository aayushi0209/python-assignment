{
  "nbformat": 4,
  "nbformat_minor": 0,
  "metadata": {
    "colab": {
      "name": "PythonAssignment4.ipynb",
      "provenance": [],
      "collapsed_sections": [],
      "authorship_tag": "ABX9TyOLxClgMiEgMzd2i104a53i"
    },
    "kernelspec": {
      "name": "python3",
      "display_name": "Python 3"
    }
  },
  "cells": [
    {
      "cell_type": "code",
      "metadata": {
        "id": "_qTSYLeu22sm",
        "colab_type": "code",
        "colab": {
          "base_uri": "https://localhost:8080/",
          "height": 70
        },
        "outputId": "c0e78b5c-5744-443f-c3ca-159ee0caf39f"
      },
      "source": [
        "# Find the occurence of a string in the given String.Print the Index Value.\n",
        "import re \n",
        "s=input(\"Enter the String!!!\")\n",
        "s1=input(\"Enter the Sub-String!!!\")\n",
        "res = [i.start() for i in re.finditer(s1, s)] \n",
        "print(res)\n"
      ],
      "execution_count": 10,
      "outputs": [
        {
          "output_type": "stream",
          "text": [
            "Enter the String!!!Today is morning have a nice day ... Weather is so nice \n",
            "Enter the Sub-String!!!nice\n",
            "[24, 51]\n"
          ],
          "name": "stdout"
        }
      ]
    },
    {
      "cell_type": "code",
      "metadata": {
        "id": "kPfAbcqW3GVk",
        "colab_type": "code",
        "colab": {
          "base_uri": "https://localhost:8080/",
          "height": 70
        },
        "outputId": "65950b51-7dd8-48bc-89a7-80633e125464"
      },
      "source": [
        "# Explain islower() isupper() with the different kinds of strings\n",
        "s=input(\"Enter the String!!! - \")\n",
        "print(s.islower())\n",
        "print(s.isupper())"
      ],
      "execution_count": 8,
      "outputs": [
        {
          "output_type": "stream",
          "text": [
            "Enter the String!!! - fcghjkCFGHJK\n",
            "False\n",
            "False\n"
          ],
          "name": "stdout"
        }
      ]
    },
    {
      "cell_type": "code",
      "metadata": {
        "id": "5khemhlA4bIX",
        "colab_type": "code",
        "colab": {}
      },
      "source": [
        ""
      ],
      "execution_count": null,
      "outputs": []
    }
  ]
}