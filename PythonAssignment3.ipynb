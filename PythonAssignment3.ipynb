{
  "nbformat": 4,
  "nbformat_minor": 0,
  "metadata": {
    "colab": {
      "name": "PythonAssignment3.ipynb",
      "provenance": [],
      "collapsed_sections": [],
      "authorship_tag": "ABX9TyODS4++CAKqaR67fNrTsf05"
    },
    "kernelspec": {
      "name": "python3",
      "display_name": "Python 3"
    }
  },
  "cells": [
    {
      "cell_type": "code",
      "metadata": {
        "id": "LdffWZ0jhH1k",
        "colab_type": "code",
        "colab": {
          "base_uri": "https://localhost:8080/",
          "height": 52
        },
        "outputId": "300f7260-a5c6-4cde-cb3c-25c0010a9355"
      },
      "source": [
        "# Find the sum of n numbers whith the help of while loop\n",
        "\n",
        "n=int(input(\"Enter the number-\"))\n",
        "i=1\n",
        "sum=0\n",
        "while(i<=n):\n",
        "    sum=sum+i\n",
        "    i+=1\n",
        "print(sum)"
      ],
      "execution_count": null,
      "outputs": [
        {
          "output_type": "stream",
          "text": [
            "Enter the number-10\n",
            "55\n"
          ],
          "name": "stdout"
        }
      ]
    },
    {
      "cell_type": "code",
      "metadata": {
        "id": "oVkZPKOfhnxH",
        "colab_type": "code",
        "colab": {
          "base_uri": "https://localhost:8080/",
          "height": 52
        },
        "outputId": "7a836d46-f416-4ba7-b0ff-767c81728dea"
      },
      "source": [
        "# Take an integer find whether it is prime or not\n",
        "\n",
        "n=int(input(\"Enter the number-\"))\n",
        "flag=0\n",
        "i=2\n",
        "while(i<=n/2):\n",
        "    if(n%i ==0):\n",
        "        flag=1\n",
        "        break\n",
        "    i+=1\n",
        "\n",
        "if flag==0:\n",
        "    print(f\"{n} is prime number\")\n",
        "else:\n",
        "    print(f\"{n} is composite number\")\n"
      ],
      "execution_count": null,
      "outputs": [
        {
          "output_type": "stream",
          "text": [
            "Enter the number-131\n",
            "131 is prime number\n"
          ],
          "name": "stdout"
        }
      ]
    },
    {
      "cell_type": "code",
      "metadata": {
        "id": "l4UlivShlC62",
        "colab_type": "code",
        "colab": {}
      },
      "source": [
        ""
      ],
      "execution_count": null,
      "outputs": []
    }
  ]
}