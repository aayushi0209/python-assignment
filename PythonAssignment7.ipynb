{
  "nbformat": 4,
  "nbformat_minor": 0,
  "metadata": {
    "colab": {
      "name": "PythonAssignment7.ipynb",
      "provenance": [],
      "collapsed_sections": [],
      "authorship_tag": "ABX9TyPuy5iNGbFeaJruZ8XzHNno"
    },
    "kernelspec": {
      "name": "python3",
      "display_name": "Python 3"
    }
  },
  "cells": [
    {
      "cell_type": "code",
      "metadata": {
        "id": "7uzufDQoCLVH",
        "colab_type": "code",
        "colab": {
          "base_uri": "https://localhost:8080/",
          "height": 34
        },
        "outputId": "0deb2db2-67cf-4a3f-9662-14c28907179b"
      },
      "source": [
        "# Use the dictionary,\n",
        "#  port1 = {21: \"FTP\", 22:\"SSH\", 23: \"telnet\", 80: \"http\"},\n",
        "# and make a new dictionary in which keys become values and values become keys,\n",
        "#  as shown: Port2 = {“FTP\":21, \"SSH\":22, “telnet\":23,\"http\": 80}\n",
        "\n",
        "port1 = {21: \"FTP\", 22:\"SSH\", 23: \"telnet\", 80: \"http\"}\n",
        "keys=list(port1.keys())\n",
        "values=list(port1.values())\n",
        "port2 = {values[i]: keys[i] for i in range(len(values))}\n",
        "print(port2)"
      ],
      "execution_count": 18,
      "outputs": [
        {
          "output_type": "stream",
          "text": [
            "{'FTP': 21, 'SSH': 22, 'telnet': 23, 'http': 80}\n"
          ],
          "name": "stdout"
        }
      ]
    },
    {
      "cell_type": "code",
      "metadata": {
        "id": "XVYfFB4QCifb",
        "colab_type": "code",
        "colab": {
          "base_uri": "https://localhost:8080/",
          "height": 34
        },
        "outputId": "6e7a7cd4-81db-4c5b-ff47-f7546e45f3af"
      },
      "source": [
        "# Take a list of tuple as shown below.\n",
        "# [(1,2), (3,4), (5,6),(4,5)]\n",
        "# Make a new list which contains the sum of the number of tuples.\n",
        "# For example\n",
        "# Input\n",
        "# [(1,2), (3,4), (5,6)]\n",
        "# Output\n",
        "# [3, 7, 11]\n",
        "\n",
        "tup=[(1,2), (3,4), (5,6),(4,5)]\n",
        "final=[]\n",
        "for i in tup:\n",
        "    sum=0\n",
        "    for j in i:\n",
        "        sum+=j\n",
        "    final.append(sum)\n",
        "print(final)"
      ],
      "execution_count": 22,
      "outputs": [
        {
          "output_type": "stream",
          "text": [
            "[3, 7, 11, 9]\n"
          ],
          "name": "stdout"
        }
      ]
    },
    {
      "cell_type": "code",
      "metadata": {
        "id": "zpj3XdJKFgE_",
        "colab_type": "code",
        "colab": {}
      },
      "source": [
        ""
      ],
      "execution_count": null,
      "outputs": []
    }
  ]
}